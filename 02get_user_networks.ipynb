{
 "cells": [
  {
   "cell_type": "markdown",
   "id": "f0f06641-0f54-4c38-8823-1ffbf8f63d28",
   "metadata": {},
   "source": [
    "## Get the user access policy"
   ]
  },
  {
   "cell_type": "code",
   "execution_count": null,
   "id": "4c09fd10-3779-438d-88ec-1b2f98674500",
   "metadata": {
    "tags": []
   },
   "outputs": [],
   "source": [
    "import settings"
   ]
  },
  {
   "cell_type": "code",
   "execution_count": null,
   "id": "68879234-a0fa-4046-be20-ed80b5175cc4",
   "metadata": {
    "tags": []
   },
   "outputs": [],
   "source": [
    "import sys"
   ]
  },
  {
   "cell_type": "markdown",
   "id": "4dee9d1e-8694-47b6-805b-da7bbca5f02e",
   "metadata": {
    "tags": []
   },
   "source": [
    "### This library is used for formatting JSON output"
   ]
  },
  {
   "cell_type": "code",
   "execution_count": null,
   "id": "2f6ca5c9-2e1a-417c-afa4-eed38394304d",
   "metadata": {},
   "outputs": [],
   "source": [
    "from IPython.display import JSON"
   ]
  },
  {
   "cell_type": "markdown",
   "id": "bdc4d4df-644f-4c96-847b-d22790b7b7c8",
   "metadata": {},
   "source": [
    "### Import the webservice client module - utility for talking to GlobalNOC Webservices. \n",
    "\n",
    "### It is available publicly in PyPi https://pypi.org/project/globalnoc-wsc/"
   ]
  },
  {
   "cell_type": "code",
   "execution_count": null,
   "id": "ace4d0ff-309c-485b-8ff8-2a7bc71a4932",
   "metadata": {},
   "outputs": [],
   "source": [
    "from globalnoc import wsc"
   ]
  },
  {
   "cell_type": "markdown",
   "id": "63f2cff2-271d-4e64-8ee6-154b651668a5",
   "metadata": {},
   "source": [
    "### Create the client object and establish connectivity"
   ]
  },
  {
   "cell_type": "code",
   "execution_count": null,
   "id": "2e8a5acc-76f6-4bcc-8e22-b1adaab70788",
   "metadata": {},
   "outputs": [],
   "source": [
    "client = wsc.WSC()\n",
    "client.url = settings.BASE_URL + \"rbac.cgi\"\n",
    "client.username = settings.USERNAME\n",
    "client.password = settings.PASSWORD\n",
    "client.realm = settings.REALM"
   ]
  },
  {
   "cell_type": "markdown",
   "id": "d35348b4-8978-4891-b4b9-2e9ba528ba57",
   "metadata": {
    "tags": []
   },
   "source": [
    "### Do `get_users()` to get the `user_id` of the current user."
   ]
  },
  {
   "cell_type": "code",
   "execution_count": null,
   "id": "03293c87-83e4-4f3e-a69c-2fb04b6105e3",
   "metadata": {},
   "outputs": [],
   "source": [
    "res = client.get_users()\n",
    "res"
   ]
  },
  {
   "cell_type": "markdown",
   "id": "890fa8f5-ff9d-45d2-b50d-5f84a3fc860a",
   "metadata": {},
   "source": [
    "### Perform error checking"
   ]
  },
  {
   "cell_type": "code",
   "execution_count": null,
   "id": "47fbd906-6203-4934-9daf-0e2f1f71c477",
   "metadata": {},
   "outputs": [],
   "source": [
    "if res.get('error', 0) == 1:\n",
    "    print(f\"Error fetching data from CDS: { res.get('error_text','') }\")\n",
    "    sys.exit(1)\n",
    "          \n",
    "if 'results' not in res:\n",
    "    print(f'Error fetching data from CDS')\n",
    "    sys.exit(1)"
   ]
  },
  {
   "cell_type": "code",
   "execution_count": null,
   "id": "fb722512-692c-4802-acdb-5b8f318853bf",
   "metadata": {},
   "outputs": [],
   "source": [
    "res = res['results']\n",
    "res"
   ]
  },
  {
   "cell_type": "markdown",
   "id": "322cedb4-ba8f-461f-b7a7-30c710eaf4d1",
   "metadata": {},
   "source": [
    "### Grab the user_id of the current user from the result set\n",
    "\n",
    "```\n",
    "user_id = res[0]['user_id']\n",
    "user_id\n",
    "```"
   ]
  },
  {
   "cell_type": "code",
   "execution_count": null,
   "id": "bd8a92c9-25b5-4761-a1b7-6b974c523338",
   "metadata": {},
   "outputs": [],
   "source": [
    "### TO be coded during the workshop"
   ]
  },
  {
   "cell_type": "markdown",
   "id": "70d54b3b-869e-4d91-8c32-93316e921f59",
   "metadata": {},
   "source": [
    "### Get the current users access with `user_id` as the parameter\n",
    "\n",
    "```\n",
    "JSON(client.get_user_networks(user_id=user_id))\n",
    "```"
   ]
  },
  {
   "cell_type": "code",
   "execution_count": null,
   "id": "1e4730f6-85c7-4e01-a5ea-1683ff77a1c5",
   "metadata": {},
   "outputs": [],
   "source": [
    "### TO be coded during the workshop"
   ]
  }
 ],
 "metadata": {
  "kernelspec": {
   "display_name": "venv",
   "language": "python",
   "name": "venv"
  },
  "language_info": {
   "codemirror_mode": {
    "name": "ipython",
    "version": 3
   },
   "file_extension": ".py",
   "mimetype": "text/x-python",
   "name": "python",
   "nbconvert_exporter": "python",
   "pygments_lexer": "ipython3",
   "version": "3.9.7"
  }
 },
 "nbformat": 4,
 "nbformat_minor": 5
}
