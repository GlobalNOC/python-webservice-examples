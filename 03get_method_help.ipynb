{
 "cells": [
  {
   "cell_type": "markdown",
   "id": "f0f06641-0f54-4c38-8823-1ffbf8f63d28",
   "metadata": {},
   "source": [
    "## Examine an API's help method"
   ]
  },
  {
   "cell_type": "code",
   "execution_count": null,
   "id": "0204f022-8f61-494e-bcc9-2bc1a58e9bba",
   "metadata": {
    "tags": []
   },
   "outputs": [],
   "source": [
    "import settings"
   ]
  },
  {
   "cell_type": "markdown",
   "id": "4dee9d1e-8694-47b6-805b-da7bbca5f02e",
   "metadata": {
    "tags": []
   },
   "source": [
    "### This library is used for formatting JSON output"
   ]
  },
  {
   "cell_type": "code",
   "execution_count": null,
   "id": "2f6ca5c9-2e1a-417c-afa4-eed38394304d",
   "metadata": {},
   "outputs": [],
   "source": [
    "from IPython.display import JSON"
   ]
  },
  {
   "cell_type": "markdown",
   "id": "bdc4d4df-644f-4c96-847b-d22790b7b7c8",
   "metadata": {},
   "source": [
    "### Import the webservice client module - utility for talking to GlobalNOC Webservices. \n",
    "\n",
    "### It is available publicly in PyPi https://pypi.org/project/globalnoc-wsc/"
   ]
  },
  {
   "cell_type": "code",
   "execution_count": null,
   "id": "ace4d0ff-309c-485b-8ff8-2a7bc71a4932",
   "metadata": {},
   "outputs": [],
   "source": [
    "from globalnoc import wsc"
   ]
  },
  {
   "cell_type": "markdown",
   "id": "63f2cff2-271d-4e64-8ee6-154b651668a5",
   "metadata": {},
   "source": [
    "### Create the client object and establish connectivity"
   ]
  },
  {
   "cell_type": "code",
   "execution_count": null,
   "id": "2e8a5acc-76f6-4bcc-8e22-b1adaab70788",
   "metadata": {},
   "outputs": [],
   "source": [
    "client = wsc.WSC()\n",
    "client.url = settings.BASE_URL + \"node.cgi\"\n",
    "client.username = settings.USERNAME\n",
    "client.password = settings.PASSWORD\n",
    "client.realm = settings.REALM"
   ]
  },
  {
   "cell_type": "markdown",
   "id": "d35348b4-8978-4891-b4b9-2e9ba528ba57",
   "metadata": {},
   "source": [
    "### Examine an API's help method\n",
    "```\n",
    "JSON(client.help())\n",
    "```\n",
    "### Get help for `get_nodes()`\n",
    "\n",
    "```\n",
    "JSON(client.help( method_name = \"get_nodes\" ))\n",
    "```\n",
    "\n",
    "### Now change the method name\n",
    "```\n",
    "JSON(client.help( method_name = \"add_node\" ))\n",
    "```"
   ]
  },
  {
   "cell_type": "code",
   "execution_count": null,
   "id": "03293c87-83e4-4f3e-a69c-2fb04b6105e3",
   "metadata": {},
   "outputs": [],
   "source": [
    "### To be code during the workshop"
   ]
  }
 ],
 "metadata": {
  "kernelspec": {
   "display_name": "venv",
   "language": "python",
   "name": "venv"
  },
  "language_info": {
   "codemirror_mode": {
    "name": "ipython",
    "version": 3
   },
   "file_extension": ".py",
   "mimetype": "text/x-python",
   "name": "python",
   "nbconvert_exporter": "python",
   "pygments_lexer": "ipython3",
   "version": "3.9.7"
  }
 },
 "nbformat": 4,
 "nbformat_minor": 5
}
